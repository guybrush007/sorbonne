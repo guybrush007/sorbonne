{
 "cells": [
  {
   "cell_type": "markdown",
   "metadata": {},
   "source": [
    "# Methode d'inversion lineaire"
   ]
  },
  {
   "cell_type": "markdown",
   "metadata": {
    "vscode": {
     "languageId": "plaintext"
    }
   },
   "source": [
    "## Rappel (rapide) de la methode"
   ]
  },
  {
   "cell_type": "markdown",
   "metadata": {
    "vscode": {
     "languageId": "plaintext"
    }
   },
   "source": [
    "## Code"
   ]
  },
  {
   "cell_type": "code",
   "execution_count": 1,
   "metadata": {},
   "outputs": [],
   "source": [
    "%%capture\n",
    "# Installation des pre-requis\n",
    "!pip install qutip==4.7.5"
   ]
  },
  {
   "cell_type": "markdown",
   "metadata": {},
   "source": [
    "### Cas ideal"
   ]
  },
  {
   "cell_type": "markdown",
   "metadata": {},
   "source": [
    "#### Simulation ideale"
   ]
  },
  {
   "cell_type": "code",
   "execution_count": 2,
   "metadata": {},
   "outputs": [],
   "source": [
    "from qutip import basis, Qobj\n",
    "from qutip.qip.circuit import QubitCircuit\n",
    "import numpy as np\n",
    "\n",
    "def get_hadamard_preparation_X():\n",
    "    qc = QubitCircuit(N=1, num_cbits=1)\n",
    "    qc.add_gate(\"SNOT\", targets=[0])  # Prepare in Hadamard state\n",
    "    qc.add_gate(\"SNOT\", targets=[0])  # Transform basis for X measurement\n",
    "    qc.add_measurement(\"M0\", targets=[0], classical_store=0)\n",
    "    return qc\n",
    "\n",
    "def get_hadamard_preparation_Y():\n",
    "    qc = QubitCircuit(N=1, num_cbits=1)\n",
    "    qc.add_gate(\"SNOT\", targets=[0])\n",
    "    qc.add_gate(\"S\", targets=[0])\n",
    "    qc.add_gate(\"SNOT\", targets=[0])\n",
    "    qc.add_gate(\"T\", targets=[0])\n",
    "    qc.add_measurement(\"M0\", targets=[0], classical_store=0)\n",
    "    return qc\n",
    "\n",
    "def get_hadamard_preparation_Z():\n",
    "    qc = QubitCircuit(N=1, num_cbits=1)\n",
    "    qc.add_gate(\"SNOT\", targets=[0])\n",
    "    qc.add_measurement(\"M0\", targets=[0], classical_store=0)\n",
    "    return qc"
   ]
  },
  {
   "cell_type": "code",
   "execution_count": 3,
   "metadata": {},
   "outputs": [
    {
     "name": "stdout",
     "output_type": "stream",
     "text": [
      "X: [[3000.+0.j]\n",
      " [   0.+0.j]] \n",
      "Y: [[1461.+0.j]\n",
      " [1539.+0.j]] \n",
      "Z: [[1544.+0.j]\n",
      " [1456.+0.j]]\n"
     ]
    }
   ],
   "source": [
    "shots_number = 3000\n",
    "initial_state = basis(2, 0)\n",
    "\n",
    "results_x_ideal = Qobj(np.array([0, 0]))\n",
    "results_y_ideal = Qobj(np.array([0, 0]))\n",
    "results_z_ideal = Qobj(np.array([0, 0]))\n",
    "\n",
    "qc_x = get_hadamard_preparation_X()\n",
    "qc_y = get_hadamard_preparation_Z()\n",
    "qc_z = get_hadamard_preparation_Z()\n",
    "\n",
    "for _ in range(0, shots_number):    \n",
    "    results_x_ideal +=  qc_x.run(state=initial_state)    \n",
    "    results_y_ideal +=  qc_y.run(state=initial_state)\n",
    "    results_z_ideal +=  qc_z.run(state=initial_state)\n",
    "\n",
    "# TODO Ajouter un diagramme a la Qiskit\n",
    "print(\"X: {} \\nY: {} \\nZ: {}\".format(results_x_ideal.full(), results_y_ideal.full(), results_z_ideal.full()));"
   ]
  },
  {
   "cell_type": "markdown",
   "metadata": {},
   "source": [
    "#### Inversion lineaire du cas ideal"
   ]
  },
  {
   "cell_type": "code",
   "execution_count": 4,
   "metadata": {},
   "outputs": [
    {
     "name": "stdout",
     "output_type": "stream",
     "text": [
      "Matrice densite reconstruite:\n",
      "[[0.51466667+0.j    0.5       +0.013j]\n",
      " [0.5       -0.013j 0.48533333+0.j   ]] \n",
      "Matrice densite theorique:\n",
      "[[0.5+0.j 0.5+0.j]\n",
      " [0.5+0.j 0.5+0.j]]\n"
     ]
    }
   ],
   "source": [
    "from qutip import qeye, sigmax, sigmay, sigmaz\n",
    "\n",
    "p_x = ((results_x_ideal.full()[0] - results_x_ideal.full()[1]) / shots_number)[0]\n",
    "p_y = ((results_y_ideal.full()[0] - results_y_ideal.full()[1]) / shots_number)[0]\n",
    "p_z = ((results_z_ideal.full()[0] - results_z_ideal.full()[1]) / shots_number)[0]\n",
    "\n",
    "reconstructed_density_matrix = 0.5*(qeye(2) + p_x*sigmax() + p_y*sigmay() + p_z*sigmaz())\n",
    "print(\"Matrice densite reconstruite:\\n{} \".format(reconstructed_density_matrix.full()))\n",
    "\n",
    "ideal_hadamard_state = (basis(2, 0) +  basis(2, 1)) / np.sqrt(2)\n",
    "ideal_hadamard_density_matrix = ideal_hadamard_state.proj()\n",
    "print(\"Matrice densite theorique:\\n{}\".format(ideal_hadamard_density_matrix.full()))"
   ]
  },
  {
   "cell_type": "markdown",
   "metadata": {},
   "source": [
    "### Cas avec un bruit de type decoherence de phase"
   ]
  },
  {
   "cell_type": "markdown",
   "metadata": {},
   "source": [
    "#### Simulation du cas avec bruit"
   ]
  },
  {
   "cell_type": "markdown",
   "metadata": {},
   "source": [
    "#### Inversion lineaire du cas avec bruit"
   ]
  },
  {
   "cell_type": "markdown",
   "metadata": {},
   "source": [
    "## Resultats"
   ]
  },
  {
   "cell_type": "markdown",
   "metadata": {},
   "source": [
    "# Methode du maximum de vraisemblance"
   ]
  },
  {
   "cell_type": "markdown",
   "metadata": {},
   "source": [
    "## Rappel (rapide) de la methode"
   ]
  },
  {
   "cell_type": "markdown",
   "metadata": {},
   "source": [
    "## Code"
   ]
  },
  {
   "cell_type": "code",
   "execution_count": null,
   "metadata": {},
   "outputs": [],
   "source": []
  }
 ],
 "metadata": {
  "kernelspec": {
   "display_name": "Python 3 (ipykernel)",
   "language": "python",
   "name": "python3"
  },
  "language_info": {
   "codemirror_mode": {
    "name": "ipython",
    "version": 3
   },
   "file_extension": ".py",
   "mimetype": "text/x-python",
   "name": "python",
   "nbconvert_exporter": "python",
   "pygments_lexer": "ipython3",
   "version": "3.10.13"
  }
 },
 "nbformat": 4,
 "nbformat_minor": 4
}
