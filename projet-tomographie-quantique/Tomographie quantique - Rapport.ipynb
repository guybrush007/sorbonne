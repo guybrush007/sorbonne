{
 "cells": [
  {
   "cell_type": "markdown",
   "id": "f5a2d38a-7b17-41bc-9396-bd4a8915e1de",
   "metadata": {
    "editable": true,
    "slideshow": {
     "slide_type": ""
    },
    "tags": [
     "rapport"
    ]
   },
   "source": [
    "# Introduction"
   ]
  },
  {
   "cell_type": "markdown",
   "id": "c5b8f1c8-3cf9-40ad-b673-7f1a9765d479",
   "metadata": {
    "editable": true,
    "slideshow": {
     "slide_type": ""
    },
    "tags": [
     "rapport"
    ]
   },
   "source": [
    "Entièrement préparer et caractériser un état physique est un élément important pour un expérimentaliste. Dans le domaine de la physique quantique, préparer un état quantique est plus délicat du fait de sa nature probabiliste. En effet, une mesure détruit les multiples possibilités de l'état quantique en effondrant la fonction d'onde. On perd donc l'information sur les autres états possible. C'est dans ce domaine que la tomographie d'état quantique intervient. En préparant plusieurs états identiques et en effectuant une mesure spécifique sur chacun de ces états, il est possible de caractériser entièrement cet état par sa matrice densité."
   ]
  },
  {
   "cell_type": "markdown",
   "id": "c4cae8f6-e6bb-4583-8557-b839b0050ad8",
   "metadata": {
    "editable": true,
    "slideshow": {
     "slide_type": ""
    },
    "tags": [
     "rapport"
    ]
   },
   "source": [
    "Dans ce projet, plutot oriente programmation numerique, nous nous intéresserons à la préparation d'états quantiques dans le cadre de l'informatique quantique. La plupart des algorithmes quantiques nécessitent d'avoir un état précis au début: par exemple un état superposé ou intriqué. Nous allons étudier les cas de la préparation des états d'Hadamard et des états de Bell dans le cas d'un qubit supraconducteur. Dans ce projet, la nature supraconductrice du qubit n'influencera pas nos travaux."
   ]
  },
  {
   "cell_type": "markdown",
   "id": "21c261c7-eeb6-42f8-9b83-4fa362f2d2db",
   "metadata": {
    "editable": true,
    "slideshow": {
     "slide_type": ""
    },
    "tags": [
     "rapport"
    ]
   },
   "source": [
    "Après une brève description des propriétés d'un qubit supraconducteur et des circuits quantiques que l'on peut utiliser, nous expliquerons les bases de la tomographie quantique ainsi que deux de ses méthodes principales. Ensuite, nous passerons à l'implémentation de ces méthodes pour les états d'Hadamard et de Bell, états purs dans un premier temps, puis mixtes. Enfin, nous analyserons les résultats obtenus pour trouver les limites des méthodes de tomographie quantiques pour conclure sur de possibles méthodes alternatives."
   ]
  },
  {
   "cell_type": "markdown",
   "id": "12ab4c64-7eb7-4f63-b6be-ee12ad42bc8a",
   "metadata": {
    "editable": true,
    "slideshow": {
     "slide_type": ""
    },
    "tags": [
     "rapport"
    ]
   },
   "source": [
    "# Qubit supraconducteur"
   ]
  },
  {
   "cell_type": "markdown",
   "id": "978045cc-e831-47d2-a330-6e731302ef6d",
   "metadata": {
    "editable": true,
    "slideshow": {
     "slide_type": ""
    },
    "tags": [
     "rapport"
    ]
   },
   "source": [
    "## Proprietes d'un qubit supraconducteur"
   ]
  },
  {
   "cell_type": "markdown",
   "id": "c6907353-6596-4019-909e-f48e35e5bb93",
   "metadata": {
    "editable": true,
    "slideshow": {
     "slide_type": ""
    },
    "tags": [
     "rapport"
    ]
   },
   "source": [
    "Un qubit supraconducteur[1] est un oscilateur harmonique electromagnetique qui utilise les proprietes supraconductrices de certains materiaux. Dans ce cas, l'oscillateur harmonique exhibe des proprietes quantiques et ses niveaux d'energies sont quantifies. "
   ]
  },
  {
   "attachments": {},
   "cell_type": "markdown",
   "id": "46f5071f-98ef-4b70-95fa-fa9853daac66",
   "metadata": {
    "editable": true,
    "slideshow": {
     "slide_type": ""
    },
    "tags": []
   },
   "source": [
    "L'hamiltonien de base qui regit ce circuit est $H = \\hbar \\omega_r (a^\\dagger a + 1/2)$, ou $w_r$ est la frequence du resonateur, et $a$ et $a^\\dagger$ les operateurs de creation et destruction. Les niveaux d'energies sont des multiples de $\\hbar \\omega_r$\n",
    "\n",
    "![qt001.png](images_rapport/qt001.png)\n",
    "\n",
    "Figure 1: DESCRIPTION"
   ]
  },
  {
   "cell_type": "markdown",
   "id": "03cdf99f-a798-46a5-9b1a-3f7e8a0f012e",
   "metadata": {
    "editable": true,
    "slideshow": {
     "slide_type": ""
    },
    "tags": []
   },
   "source": [
    "Par usage conventionel, on n'utilise que les deux premiers etats, l'etat de plus basse energie $|0\\rangle$ et le premier etat exite $|1\\rangle$. En pratique, les differences d'energie entre deux niveaux, ne sont pas egales, car on souhaite eviter d'acceder a des etats non-voulus."
   ]
  },
  {
   "cell_type": "markdown",
   "id": "c4dfb3e1-705f-4723-8107-1d57fb372d40",
   "metadata": {
    "editable": true,
    "slideshow": {
     "slide_type": ""
    },
    "tags": []
   },
   "source": [
    "Plusieurs variantes d'un qubit supraconducteur existent: tels les transmons qui utilisent des jonction de Josephson, fluxonium etc ... Les differentes natures du qubit n'influenceront pas notre travail sur la tomographie."
   ]
  },
  {
   "cell_type": "markdown",
   "id": "db6c1920-dda2-4fa0-a464-41076a9e0000",
   "metadata": {
    "editable": true,
    "slideshow": {
     "slide_type": ""
    },
    "tags": [
     "rapport"
    ]
   },
   "source": [
    "## Circuits quantiques"
   ]
  },
  {
   "cell_type": "markdown",
   "id": "804b942f-99fb-4669-86c4-17aedc46eba3",
   "metadata": {
    "editable": true,
    "slideshow": {
     "slide_type": ""
    },
    "tags": []
   },
   "source": [
    "Ces etats sont manipules grace a des portes quantiques qui agissent sur l'etat d'un ou plusieurs qubits. \n",
    "\n",
    "Par example, la porte d'Hadamard representee par la matrice $H = \\frac{1}{\\sqrt{2}} \\begin{pmatrix} 1 & 1 \\\\ 1 & -1 \\end{pmatrix}$, met en superposition l'etat $|0\\rangle$ de maniere equiprobable: $H|0\\rangle = (|0\\rangle + |1\\rangle)/\\sqrt 2$. \n",
    "\n",
    "Sans rentrer dans le details, les portes quantiques sont realises en appliquant des ondes electromagnetiques du domaine des micro-ondes, avec une certaine forme, frequence. Une des utilisation de la tomographie quantique est de caracteriser l'etat apres l'application d'une porte quantique pour appliquer des methode de controle optimal quantique et optimiser la fidelite de la porte."
   ]
  },
  {
   "cell_type": "markdown",
   "id": "1d82b904-1428-4c42-9e2e-ea5ec4a1c83b",
   "metadata": {
    "editable": true,
    "slideshow": {
     "slide_type": ""
    },
    "tags": []
   },
   "source": [
    "Toutes comme leurs equivalents en informatique classique, ces portes peuvent etre connectees pour former un circuit afin de realiser un algorithme. Par exemple, voici le circuit de l'algorithme Deutsch–Jozsa [2].\n",
    "\n",
    "![qt002.png](images_rapport/qt002.png)\n",
    "\n",
    "Figure 2: DESCRIPTION"
   ]
  },
  {
   "cell_type": "markdown",
   "id": "2d8972ef-2889-46d3-bdc8-1bc918bd314f",
   "metadata": {
    "editable": true,
    "slideshow": {
     "slide_type": ""
    },
    "tags": [
     "rapport"
    ]
   },
   "source": [
    "# Tomographie d'un etat quantique"
   ]
  },
  {
   "cell_type": "markdown",
   "id": "321ff52f-b28e-4d81-a05d-5732bc4d4146",
   "metadata": {
    "editable": true,
    "slideshow": {
     "slide_type": ""
    },
    "tags": [
     "rapport"
    ]
   },
   "source": [
    "## Description d'un etat quantique avec une matrice densite"
   ]
  },
  {
   "cell_type": "markdown",
   "id": "5e876390-7350-456d-88af-3bb31222752f",
   "metadata": {
    "editable": true,
    "slideshow": {
     "slide_type": ""
    },
    "tags": []
   },
   "source": [
    "Un etat quantique suivant s'il est pur ou mixte peut etre represente de plusieurs facons:\n",
    "- S'il est pur, l'etat est totalement decrit par une unique fonction d'onde. Par exemple, $\\psi = (|0\\rangle + |1\\rangle)\\sqrt 2$\n",
    "- S'il est mixte, il ne peut pas etre decrit par une unique fonction d'onde. Il se decrit par une matrice densite $\\rho$ qui represente la somme ponderee par les proababilites $p_i$ des projecteurs sur les etats purs dont il est le melange. $\\rho = \\sum p_i|\\psi_i\\rangle\\langle\\psi_i|$\n",
    "\n",
    "Remarque: un etat pur peut aussi s'ecrire sous la form d'une matrice densite: $\\rho = |\\psi\\rangle\\langle\\psi|$"
   ]
  },
  {
   "cell_type": "markdown",
   "id": "0244694b-3eb3-4546-9b2a-68596e25240a",
   "metadata": {
    "editable": true,
    "slideshow": {
     "slide_type": ""
    },
    "tags": []
   },
   "source": [
    "La matrice densite a les proprietes suivantes [3]:\n",
    "- La matrice est hermitienne\n",
    "- Les valeurs propres de la matrice sont positives ou nulles\n",
    "- $Tr(\\rho) = 1$ pour les etats purs et mixtes\n",
    "- $Tr(\\rho^2) = Tr(\\rho)$ pour les etats purs, $Tr(\\rho^2)\\neq Tr(\\rho)$ pour les etats mixtes"
   ]
  },
  {
   "cell_type": "markdown",
   "id": "4d4db936-54ff-4125-853d-747f2971fa81",
   "metadata": {
    "editable": true,
    "slideshow": {
     "slide_type": ""
    },
    "tags": []
   },
   "source": [
    "La matrice densite $\\rho$ d'un qubit a deux niveaux peut toujours s'ecrire sous la forme [3] : $\\rho = (I + p_x\\sigma_x + p_y\\sigma_y + p_z\\sigma_z)/2$ avec $\\sigma_i$ les matrices de Pauli, $I$ la matrice identite. \n",
    "Pour representer un systeme physiquement possible, la condition suivante doit etre verifiee : $p_x^2+p_y^2+p_z^2 \\leq 1$, l'egalite est verifiee pour un etat pur.\n",
    "\n",
    "De maniere generale, pour un systeme a n-qubits, la matrice densite peut s'ecrire: $\\rho = (\\sum_{ij} p_{ij} \\sigma_i\\otimes\\sigma_j)/2^n$ avec $\\sigma_i,\\sigma_j \\in {\\sigma_x, \\sigma_y, \\sigma_z, I}$"
   ]
  },
  {
   "cell_type": "markdown",
   "id": "3c7c51a9-8d0f-4ed3-b754-48df2202e0e7",
   "metadata": {
    "editable": true,
    "slideshow": {
     "slide_type": ""
    },
    "tags": []
   },
   "source": [
    "## Observables et mesures"
   ]
  },
  {
   "cell_type": "markdown",
   "id": "b7346b13-1210-4b3a-a53a-05044756e509",
   "metadata": {
    "editable": true,
    "slideshow": {
     "slide_type": ""
    },
    "tags": []
   },
   "source": [
    "Afin de trouver la valeur moyenne $\\langle O \\rangle$ d'une observable $O$ sur le systeme represente par la matrice desnite $\\rho$, on utilise: $\\langle O \\rangle = Tr(O\\rho)$ Ces valeurs moyennes permettront d'appliquer differentes methodes de tomographie quantique.\n",
    "\n",
    "Le choix des mesures a effectuer pour une tomographie quantique est cruciale [4][5] et doivent etre:\n",
    "- completes et respecter la relation de fermeture\n",
    "- orthogonales afin d'eviter tout recouverement\n",
    "- et definies positives pour representer un etat physique.\n",
    "\n",
    "Les mesures de Pauli que nous utiliserons plus tard respectent ces conditions.\n",
    "\n",
    "Un autre point important est le nombre de types de mesures a effectuer. En reprenant la forme generale d'une matrice densite $\\rho = (\\sum_{ij} p_{ij} \\sigma_i\\otimes\\sigma_j)/2^n$ pour un systeme a n-qubit, on voit qu'il faut effectuer $4^n - 1$ types de mesures pour determiner la matrice densite complete. "
   ]
  },
  {
   "cell_type": "markdown",
   "id": "0b19ea24-c019-45a5-baff-b82c2de437e9",
   "metadata": {
    "editable": true,
    "slideshow": {
     "slide_type": ""
    },
    "tags": [
     "rapport"
    ]
   },
   "source": [
    "## Methode d'inversion lineaire"
   ]
  },
  {
   "cell_type": "markdown",
   "id": "e60e66e7-f6a6-4572-9c4b-4363e4d69d70",
   "metadata": {},
   "source": []
  },
  {
   "cell_type": "markdown",
   "id": "6ed9c777-8bc0-4674-a1f9-bdd5e166e761",
   "metadata": {
    "editable": true,
    "slideshow": {
     "slide_type": ""
    },
    "tags": [
     "rapport"
    ]
   },
   "source": [
    "## Methode du maximum de vraisemblance"
   ]
  },
  {
   "cell_type": "markdown",
   "id": "51628afb-a822-42fa-8520-69225d2ad08a",
   "metadata": {
    "editable": true,
    "slideshow": {
     "slide_type": ""
    },
    "tags": [
     "rapport"
    ]
   },
   "source": [
    "# Implementation numerique"
   ]
  },
  {
   "cell_type": "markdown",
   "id": "98301ca0-6b16-40a5-9b74-5c604284acea",
   "metadata": {},
   "source": [
    "## Protocole d'implementation"
   ]
  },
  {
   "cell_type": "markdown",
   "id": "99611cbe-b146-4d45-8b57-02ee98d70861",
   "metadata": {
    "editable": true,
    "slideshow": {
     "slide_type": ""
    },
    "tags": [
     "rapport"
    ]
   },
   "source": [
    "## Etats d'Hadamard "
   ]
  },
  {
   "cell_type": "markdown",
   "id": "9506740b-12de-4e70-b266-bef58c0e686f",
   "metadata": {
    "editable": true,
    "slideshow": {
     "slide_type": ""
    },
    "tags": [
     "rapport"
    ]
   },
   "source": [
    "## Etats de Bell"
   ]
  },
  {
   "cell_type": "markdown",
   "id": "65853d73-7150-4628-a6ae-b6a00b62b9b6",
   "metadata": {
    "editable": true,
    "slideshow": {
     "slide_type": ""
    },
    "tags": [
     "rapport"
    ]
   },
   "source": [
    "# Analyse des resultats"
   ]
  },
  {
   "cell_type": "markdown",
   "id": "b8fd2164-99d9-4a24-b74d-8dcf49cc4875",
   "metadata": {
    "editable": true,
    "slideshow": {
     "slide_type": ""
    },
    "tags": [
     "rapport"
    ]
   },
   "source": [
    "# Conclusion"
   ]
  },
  {
   "cell_type": "markdown",
   "id": "d5b4a977-26fb-4bdd-bbea-7a94cb98352e",
   "metadata": {
    "editable": true,
    "slideshow": {
     "slide_type": ""
    },
    "tags": []
   },
   "source": [
    "# Bibliographie"
   ]
  },
  {
   "cell_type": "markdown",
   "id": "d53be53d-2320-4f6a-9477-d609981c0ac2",
   "metadata": {
    "editable": true,
    "slideshow": {
     "slide_type": ""
    },
    "tags": []
   },
   "source": [
    "[1] Krantz, Philip, et al. \"A Quantum Engineer's Guide to Superconducting Qubits.\" arXiv preprint arXiv:1904.06560 (2019).\n",
    "Lien: https://arxiv.org/abs/1904.06560\n",
    "\n",
    "[2] Johansson, Robert, et al. \"QuTiP Tutorials: Quantum Toolbox in Python.\" QuTiP Project. Lien: https://qutip.org/qutip-tutorials/\n",
    "\n",
    "[3] Bhandari, Ramesh, \"On Single Qubit Quantum State Tomography.\" arXiv preprint arXiv:1407.6668 (2014). Lien: https://arxiv.org/abs/1407.6668\n",
    "\n",
    "[4] Toninelli, Ermes, et al. \"Concepts in quantum state tomography and classical implementation with intense light: a tutorial.\" Advances in Optics and Photonics, vol. 11, no. 1, 2019, pp. 67-134. Lien: https://doi.org/10.1364/AOP.11.000067\n",
    "\n",
    "[5] D’Ariano, Giacomo Mauro, Matteo G.A. Paris, and Massimiliano F. Sacchi. \"Quantum Tomographic Methods.\" Lecture Notes in Physics, vol. 649, Springer, 2004, pp. 7-58. DOI: 10.1007/978-3-540-44481-7_2\n",
    "\n",
    "[6] Schmied, Roman. \"Quantum State Tomography of a Single Qubit: Comparison of Methods.\" arXiv preprint arXiv:1407.4759 (2106) Lien: https://arxiv.org/abs/1407.4759"
   ]
  }
 ],
 "metadata": {
  "kernelspec": {
   "display_name": "Python 3 (ipykernel)",
   "language": "python",
   "name": "python3"
  },
  "language_info": {
   "codemirror_mode": {
    "name": "ipython",
    "version": 3
   },
   "file_extension": ".py",
   "mimetype": "text/x-python",
   "name": "python",
   "nbconvert_exporter": "python",
   "pygments_lexer": "ipython3",
   "version": "3.10.13"
  }
 },
 "nbformat": 4,
 "nbformat_minor": 5
}
