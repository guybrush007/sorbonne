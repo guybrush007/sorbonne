{
 "cells": [
  {
   "cell_type": "markdown",
   "id": "c13eee7c-9681-40d8-85c0-957989ecaba0",
   "metadata": {
    "editable": true,
    "slideshow": {
     "slide_type": ""
    },
    "tags": [
     "rapport"
    ]
   },
   "source": [
    "Projet de M1 - Tomographie quantique de qubits"
   ]
  },
  {
   "cell_type": "markdown",
   "id": "f5a2d38a-7b17-41bc-9396-bd4a8915e1de",
   "metadata": {
    "editable": true,
    "slideshow": {
     "slide_type": ""
    },
    "tags": [
     "rapport"
    ]
   },
   "source": [
    "# Introduction"
   ]
  },
  {
   "cell_type": "markdown",
   "id": "c5b8f1c8-3cf9-40ad-b673-7f1a9765d479",
   "metadata": {
    "editable": true,
    "slideshow": {
     "slide_type": ""
    },
    "tags": [
     "rapport"
    ]
   },
   "source": [
    "Entièrement préparer et caractériser un état physique est un élément important pour un expérimentaliste. Dans le domaine de la physique quantique, préparer un état quantique est plus délicat du fait de sa nature probabiliste. En effet, une mesure détruit les multiples possibilités de l'état quantique en effondrant la fonction d'onde. On perd donc l'information sur les autres états possible. C'est dans ce domaine que la tomographie d'état quantique intervient. En préparant plusieurs états identiques et en effectuant une mesure spécifique sur chacun de ces états, il est possible de caractériser entièrement cet état par sa matrice densité."
   ]
  },
  {
   "cell_type": "markdown",
   "id": "c4cae8f6-e6bb-4583-8557-b839b0050ad8",
   "metadata": {
    "editable": true,
    "slideshow": {
     "slide_type": ""
    },
    "tags": [
     "rapport"
    ]
   },
   "source": [
    "Dans ce projet, nous nous intéresserons à la préparation d'états quantiques dans le cadre de l'informatique quantique. La plupart des algorithmes quantiques nécessitent d'avoir un état précis au début: par exemple un état superposé ou intriqué. Nous allons étudier les cas de la préparation des états d'Hadamard et des états de Bell dans le cas d'un qubit supraconducteur. Dans ce projet, la nature supraconductrice du qubit n'influencera pas nos travaux."
   ]
  },
  {
   "cell_type": "markdown",
   "id": "21c261c7-eeb6-42f8-9b83-4fa362f2d2db",
   "metadata": {
    "editable": true,
    "slideshow": {
     "slide_type": ""
    },
    "tags": [
     "rapport"
    ]
   },
   "source": [
    "Après une brève description des propriétés d'un qubit supraconducteur et des circuits quantiques que l'on peut utiliser, nous expliquerons les bases de la tomographie quantique ainsi que deux de ses méthodes principales. Ensuite, nous passerons à l'implémentation de ces méthodes pour les états d'Hadamard et de Bell, états purs dans un premier temps, puis mixtes. Enfin, nous analyserons les résultats obtenus pour trouver les limites des méthodes de tomographie quantiques pour conclure sur de possibles méthodes alternatives."
   ]
  },
  {
   "cell_type": "markdown",
   "id": "12ab4c64-7eb7-4f63-b6be-ee12ad42bc8a",
   "metadata": {
    "editable": true,
    "slideshow": {
     "slide_type": ""
    },
    "tags": [
     "rapport"
    ]
   },
   "source": [
    "# Qubit supraconducteur"
   ]
  },
  {
   "cell_type": "markdown",
   "id": "978045cc-e831-47d2-a330-6e731302ef6d",
   "metadata": {
    "editable": true,
    "slideshow": {
     "slide_type": ""
    },
    "tags": [
     "rapport"
    ]
   },
   "source": [
    "## Proprietes d'un qubit supraconducteur"
   ]
  },
  {
   "cell_type": "markdown",
   "id": "db6c1920-dda2-4fa0-a464-41076a9e0000",
   "metadata": {
    "editable": true,
    "slideshow": {
     "slide_type": ""
    },
    "tags": [
     "rapport"
    ]
   },
   "source": [
    "## Circuits quantiques"
   ]
  },
  {
   "cell_type": "markdown",
   "id": "2d8972ef-2889-46d3-bdc8-1bc918bd314f",
   "metadata": {
    "editable": true,
    "slideshow": {
     "slide_type": ""
    },
    "tags": [
     "rapport"
    ]
   },
   "source": [
    "# Tomographie d'un etat quantique"
   ]
  },
  {
   "cell_type": "markdown",
   "id": "321ff52f-b28e-4d81-a05d-5732bc4d4146",
   "metadata": {
    "editable": true,
    "slideshow": {
     "slide_type": ""
    },
    "tags": [
     "rapport"
    ]
   },
   "source": [
    "## Description generale"
   ]
  },
  {
   "cell_type": "markdown",
   "id": "0b19ea24-c019-45a5-baff-b82c2de437e9",
   "metadata": {
    "editable": true,
    "slideshow": {
     "slide_type": ""
    },
    "tags": [
     "rapport"
    ]
   },
   "source": [
    "## Methode d'inversion lineaire"
   ]
  },
  {
   "cell_type": "markdown",
   "id": "6ed9c777-8bc0-4674-a1f9-bdd5e166e761",
   "metadata": {
    "editable": true,
    "slideshow": {
     "slide_type": ""
    },
    "tags": [
     "rapport"
    ]
   },
   "source": [
    "## Methode du maximum de vraisemblance"
   ]
  },
  {
   "cell_type": "markdown",
   "id": "51628afb-a822-42fa-8520-69225d2ad08a",
   "metadata": {
    "editable": true,
    "slideshow": {
     "slide_type": ""
    },
    "tags": [
     "rapport"
    ]
   },
   "source": [
    "# Implementation numerique"
   ]
  },
  {
   "cell_type": "markdown",
   "id": "99611cbe-b146-4d45-8b57-02ee98d70861",
   "metadata": {
    "editable": true,
    "slideshow": {
     "slide_type": ""
    },
    "tags": [
     "rapport"
    ]
   },
   "source": [
    "## Etats d'Hadamard "
   ]
  },
  {
   "cell_type": "markdown",
   "id": "9506740b-12de-4e70-b266-bef58c0e686f",
   "metadata": {
    "editable": true,
    "slideshow": {
     "slide_type": ""
    },
    "tags": [
     "rapport"
    ]
   },
   "source": [
    "## Etats de Bell"
   ]
  },
  {
   "cell_type": "markdown",
   "id": "65853d73-7150-4628-a6ae-b6a00b62b9b6",
   "metadata": {
    "editable": true,
    "slideshow": {
     "slide_type": ""
    },
    "tags": [
     "rapport"
    ]
   },
   "source": [
    "# Analyse des resultats"
   ]
  },
  {
   "cell_type": "markdown",
   "id": "b8fd2164-99d9-4a24-b74d-8dcf49cc4875",
   "metadata": {
    "editable": true,
    "slideshow": {
     "slide_type": ""
    },
    "tags": [
     "rapport"
    ]
   },
   "source": [
    "# Conclusion"
   ]
  },
  {
   "cell_type": "markdown",
   "id": "d5b4a977-26fb-4bdd-bbea-7a94cb98352e",
   "metadata": {
    "editable": true,
    "slideshow": {
     "slide_type": ""
    },
    "tags": []
   },
   "source": [
    "# Bibliographie"
   ]
  },
  {
   "cell_type": "markdown",
   "id": "d53be53d-2320-4f6a-9477-d609981c0ac2",
   "metadata": {
    "editable": true,
    "slideshow": {
     "slide_type": ""
    },
    "tags": []
   },
   "source": [
    "[1] Krantz, Philip, et al. \"A Quantum Engineer's Guide to Superconducting Qubits.\" arXiv preprint arXiv:1904.06560 (2019).\n",
    "Lien: https://arxiv.org/abs/1904.06560"
   ]
  }
 ],
 "metadata": {
  "kernelspec": {
   "display_name": "Python 3 (ipykernel)",
   "language": "python",
   "name": "python3"
  },
  "language_info": {
   "codemirror_mode": {
    "name": "ipython",
    "version": 3
   },
   "file_extension": ".py",
   "mimetype": "text/x-python",
   "name": "python",
   "nbconvert_exporter": "python",
   "pygments_lexer": "ipython3",
   "version": "3.10.13"
  }
 },
 "nbformat": 4,
 "nbformat_minor": 5
}
