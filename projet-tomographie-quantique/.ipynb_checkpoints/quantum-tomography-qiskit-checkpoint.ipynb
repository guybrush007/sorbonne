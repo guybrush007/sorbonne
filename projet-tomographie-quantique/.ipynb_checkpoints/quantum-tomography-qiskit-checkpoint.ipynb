{
 "cells": [
  {
   "cell_type": "code",
   "execution_count": 1,
   "id": "bede3299-ffb1-4525-9dcd-75f9a3d5ccc0",
   "metadata": {},
   "outputs": [],
   "source": [
    "from qiskit import QuantumCircuit\n",
    "\n",
    "# Initialise a state in the Hadamard state : (|0> + |1>)/sqrt(2)\n",
    "qc = QuantumCircuit(1, 1)\n",
    "qc.h(0);"
   ]
  },
  {
   "cell_type": "code",
   "execution_count": 2,
   "id": "420686a3-93a9-4ac8-95f5-b6718d556d35",
   "metadata": {},
   "outputs": [
    {
     "data": {
      "text/html": [
       "<pre style=\"word-wrap: normal;white-space: pre;background: #fff0;line-height: 1.1;font-family: &quot;Courier New&quot;,Courier,monospace\">        ┌───┐┌───┐ ░ ┌─┐\n",
       "     q: ┤ H ├┤ H ├─░─┤M├\n",
       "        └───┘└───┘ ░ └╥┘\n",
       "   c: 1/══════════════╬═\n",
       "                      ║ \n",
       "meas: 1/══════════════╩═\n",
       "                      0 </pre>"
      ],
      "text/plain": [
       "        ┌───┐┌───┐ ░ ┌─┐\n",
       "     q: ┤ H ├┤ H ├─░─┤M├\n",
       "        └───┘└───┘ ░ └╥┘\n",
       "   c: 1/══════════════╬═\n",
       "                      ║ \n",
       "meas: 1/══════════════╩═\n",
       "                      0 "
      ]
     },
     "execution_count": 2,
     "metadata": {},
     "output_type": "execute_result"
    }
   ],
   "source": [
    "# Create Pauli measurement circuit in X basis\n",
    "qc_x = qc.copy()\n",
    "qc_x.h(0)\n",
    "qc_x.measure_all()\n",
    "qc_x.draw()"
   ]
  },
  {
   "cell_type": "code",
   "execution_count": 3,
   "id": "7f5f05e6-68f4-4901-9982-75346cf55c34",
   "metadata": {},
   "outputs": [
    {
     "data": {
      "text/html": [
       "<pre style=\"word-wrap: normal;white-space: pre;background: #fff0;line-height: 1.1;font-family: &quot;Courier New&quot;,Courier,monospace\">        ┌───┐┌─────┐┌───┐ ░ ┌─┐\n",
       "     q: ┤ H ├┤ Sdg ├┤ H ├─░─┤M├\n",
       "        └───┘└─────┘└───┘ ░ └╥┘\n",
       "   c: 1/═════════════════════╬═\n",
       "                             ║ \n",
       "meas: 1/═════════════════════╩═\n",
       "                             0 </pre>"
      ],
      "text/plain": [
       "        ┌───┐┌─────┐┌───┐ ░ ┌─┐\n",
       "     q: ┤ H ├┤ Sdg ├┤ H ├─░─┤M├\n",
       "        └───┘└─────┘└───┘ ░ └╥┘\n",
       "   c: 1/═════════════════════╬═\n",
       "                             ║ \n",
       "meas: 1/═════════════════════╩═\n",
       "                             0 "
      ]
     },
     "execution_count": 3,
     "metadata": {},
     "output_type": "execute_result"
    }
   ],
   "source": [
    "# Create Pauli measurement circuit in Y basis\n",
    "qc_y = qc.copy()\n",
    "qc_y.sdg(0)\n",
    "qc_y.h(0)\n",
    "qc_y.measure_all()\n",
    "qc_y.draw()"
   ]
  },
  {
   "cell_type": "code",
   "execution_count": 4,
   "id": "0566e2c1-66ab-44d9-a29f-5553e423339c",
   "metadata": {},
   "outputs": [
    {
     "data": {
      "text/html": [
       "<pre style=\"word-wrap: normal;white-space: pre;background: #fff0;line-height: 1.1;font-family: &quot;Courier New&quot;,Courier,monospace\">        ┌───┐ ░ ┌─┐\n",
       "     q: ┤ H ├─░─┤M├\n",
       "        └───┘ ░ └╥┘\n",
       "   c: 1/═════════╬═\n",
       "                 ║ \n",
       "meas: 1/═════════╩═\n",
       "                 0 </pre>"
      ],
      "text/plain": [
       "        ┌───┐ ░ ┌─┐\n",
       "     q: ┤ H ├─░─┤M├\n",
       "        └───┘ ░ └╥┘\n",
       "   c: 1/═════════╬═\n",
       "                 ║ \n",
       "meas: 1/═════════╩═\n",
       "                 0 "
      ]
     },
     "execution_count": 4,
     "metadata": {},
     "output_type": "execute_result"
    }
   ],
   "source": [
    "# Create Pauli measurement circuit in Z basis\n",
    "qc_z = qc.copy()\n",
    "qc_z.measure_all()\n",
    "qc_z.draw()"
   ]
  },
  {
   "cell_type": "code",
   "execution_count": 5,
   "id": "64a3d733-a205-4a1f-8aa0-c9f4ec64f6a6",
   "metadata": {},
   "outputs": [],
   "source": [
    "all_circuits = {\"X\": qc_x, \"Y\": qc_y, \"Z\": qc_z}"
   ]
  },
  {
   "cell_type": "code",
   "execution_count": 6,
   "id": "c700045e-91f0-4079-a5b2-7c688c74a458",
   "metadata": {},
   "outputs": [
    {
     "name": "stdout",
     "output_type": "stream",
     "text": [
      "Pauli X Counts(ideal): {'0 0': 1024}\n",
      "Pauli Y Counts(ideal): {'1 0': 489, '0 0': 535}\n",
      "Pauli Z Counts(ideal): {'0 0': 484, '1 0': 540}\n",
      "Pauli X Counts(noisy): {'0 0': 484, '1 0': 540}\n",
      "Pauli Y Counts(noisy): {'0 0': 484, '1 0': 540}\n",
      "Pauli Z Counts(noisy): {'0 0': 484, '1 0': 540}\n"
     ]
    }
   ],
   "source": [
    "# Create simulators: ideal simulator and noisy simmulator\n",
    "# https://github.com/Qiskit/qiskit-aer/blob/main/README.md\n",
    "\n",
    "import qiskit\n",
    "from qiskit_aer import AerSimulator\n",
    "from qiskit_ibm_runtime import QiskitRuntimeService\n",
    "\n",
    "# Ideal simulator\n",
    "ideal_sim = AerSimulator()\n",
    "for basis, circuit in all_circuits.items():\n",
    "    result = ideal_sim.run(circuit.copy()).result()\n",
    "    counts = result.get_counts(0)\n",
    "    print('Pauli {} Counts(ideal): {}'.format(basis, counts))\n",
    "\n",
    "# Noisy simulator\n",
    "provider = QiskitRuntimeService()\n",
    "backend = provider.get_backend(\"ibm_kyoto\")\n",
    "noisy_sim = AerSimulator.from_backend(backend)\n",
    "for basis, circuit in all_circuits.items():\n",
    "    result_noise = noisy_sim.run(circuit.copy()).result()\n",
    "    counts_noise = result_noise.get_counts(0)\n",
    "    print('Pauli {} Counts(noisy): {}'.format(basis, counts))"
   ]
  }
 ],
 "metadata": {
  "kernelspec": {
   "display_name": "Python 3 (ipykernel)",
   "language": "python",
   "name": "python3"
  },
  "language_info": {
   "codemirror_mode": {
    "name": "ipython",
    "version": 3
   },
   "file_extension": ".py",
   "mimetype": "text/x-python",
   "name": "python",
   "nbconvert_exporter": "python",
   "pygments_lexer": "ipython3",
   "version": "3.10.13"
  }
 },
 "nbformat": 4,
 "nbformat_minor": 5
}
