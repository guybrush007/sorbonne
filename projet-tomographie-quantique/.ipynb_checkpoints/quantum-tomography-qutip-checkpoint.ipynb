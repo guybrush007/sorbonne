{
 "cells": [
  {
   "cell_type": "code",
   "execution_count": 1,
   "id": "2b1a6231-4d4c-419c-9c96-a3727cadb640",
   "metadata": {},
   "outputs": [
    {
     "ename": "ModuleNotFoundError",
     "evalue": "No module named 'qutip'",
     "output_type": "error",
     "traceback": [
      "\u001b[0;31m---------------------------------------------------------------------------\u001b[0m",
      "\u001b[0;31mModuleNotFoundError\u001b[0m                       Traceback (most recent call last)",
      "Cell \u001b[0;32mIn[1], line 4\u001b[0m\n\u001b[1;32m      1\u001b[0m \u001b[38;5;66;03m# https://qutip.org/docs/latest/guide/qip/qip-basics.html\u001b[39;00m\n\u001b[1;32m      2\u001b[0m \n\u001b[1;32m      3\u001b[0m \u001b[38;5;66;03m# Import necessary functions\u001b[39;00m\n\u001b[0;32m----> 4\u001b[0m \u001b[38;5;28;01mfrom\u001b[39;00m \u001b[38;5;21;01mqutip\u001b[39;00m \u001b[38;5;28;01mimport\u001b[39;00m basis, hadamard_transform, Bloch\n\u001b[1;32m      6\u001b[0m \u001b[38;5;66;03m# Step 1: Initialize the qubit in the |0> state\u001b[39;00m\n\u001b[1;32m      7\u001b[0m initial_state \u001b[38;5;241m=\u001b[39m basis(\u001b[38;5;241m2\u001b[39m, \u001b[38;5;241m0\u001b[39m)  \u001b[38;5;66;03m# 2-level system (qubit), state |0>\u001b[39;00m\n",
      "\u001b[0;31mModuleNotFoundError\u001b[0m: No module named 'qutip'"
     ]
    }
   ],
   "source": [
    "# https://qutip.org/docs/latest/guide/qip/qip-basics.html\n",
    "\n",
    "from qutip.qip.circuit import QubitCircuit, Gate\n",
    "from qutip import tensor, basis\n",
    "import qutip as qt\n",
    "\n",
    "qc_x = QubitCircuit(N=1, num_cbits=1)\n",
    "# Initial Hadamard state\n",
    "qc_x.add_gate(\"SNOT\", targets=[0])\n",
    "#Add Hadamard gate for Pauli X\n",
    "qc_x.add_gate(\"SNOT\", targets=[0])\n",
    "qc_x.add_measurement(\"M0\", targets=[0], classical_store=0)\n",
    "\n",
    "qc_y = QubitCircuit(N=1, num_cbits=1)\n",
    "# Initial Hadamard state\n",
    "qc_y.add_gate(\"SNOT\", targets=[0])\n",
    "# Add SDagger gate\n",
    "Sdg = qt.Qobj([[1, 0], [0, -1j]])\n",
    "qc_y.user_gates = {\"SDG\": Sdg}\n",
    "qc_y.add_gate(\"SDG\", targets=[0])\n",
    "# Add Hadamard state\n",
    "qc_y.add_gate(\"SNOT\", targets=[0])\n",
    "qc_y.add_measurement(\"M0\", targets=[0], classical_store=0)\n",
    "\n",
    "qc_z = QubitCircuit(N=1, num_cbits=1)\n",
    "# Initial Hadamard state\n",
    "qc_z.add_gate(\"SNOT\", targets=[0])\n",
    "qc_z.add_measurement(\"M0\", targets=[0], classical_store=0)"
   ]
  },
  {
   "cell_type": "code",
   "execution_count": null,
   "id": "42a4cfd9-fadb-4d84-aa01-5d58dbb4cb6f",
   "metadata": {},
   "outputs": [],
   "source": []
  }
 ],
 "metadata": {
  "kernelspec": {
   "display_name": "Python 3 (ipykernel)",
   "language": "python",
   "name": "python3"
  },
  "language_info": {
   "codemirror_mode": {
    "name": "ipython",
    "version": 3
   },
   "file_extension": ".py",
   "mimetype": "text/x-python",
   "name": "python",
   "nbconvert_exporter": "python",
   "pygments_lexer": "ipython3",
   "version": "3.10.13"
  }
 },
 "nbformat": 4,
 "nbformat_minor": 5
}
